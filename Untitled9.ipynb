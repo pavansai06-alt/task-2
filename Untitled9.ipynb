{
  "nbformat": 4,
  "nbformat_minor": 0,
  "metadata": {
    "colab": {
      "provenance": [],
      "authorship_tag": "ABX9TyOeBHd7dC6wWhDmA7Oqnylf",
      "include_colab_link": true
    },
    "kernelspec": {
      "name": "python3",
      "display_name": "Python 3"
    },
    "language_info": {
      "name": "python"
    }
  },
  "cells": [
    {
      "cell_type": "markdown",
      "metadata": {
        "id": "view-in-github",
        "colab_type": "text"
      },
      "source": [
        "<a href=\"https://colab.research.google.com/github/pavansai06-alt/task-2/blob/main/Untitled9.ipynb\" target=\"_parent\"><img src=\"https://colab.research.google.com/assets/colab-badge.svg\" alt=\"Open In Colab\"/></a>"
      ]
    },
    {
      "cell_type": "code",
      "execution_count": 1,
      "metadata": {
        "colab": {
          "base_uri": "https://localhost:8080/"
        },
        "id": "vYCEQdJUfuSC",
        "outputId": "76796c92-0bcb-4007-90b9-1054e9831a5d"
      },
      "outputs": [
        {
          "output_type": "stream",
          "name": "stdout",
          "text": [
            "The sum of 5 and 10 is 15.\n"
          ]
        }
      ],
      "source": [
        "#1.\tHardcoding Variables\n",
        "\n",
        "num1 = 5\n",
        "num2 = 10\n",
        "\n",
        "# Calculate the sum\n",
        "result = num1 + num2\n",
        "\n",
        "# Display the result\n",
        "print(f\"The sum of {num1} and {num2} is {result}.\")\n"
      ]
    },
    {
      "cell_type": "code",
      "source": [
        "#2.\tKeyboard Input\n",
        "\n",
        "num1 = int(input(\"Enter the first number: \"))\n",
        "num2 = int(input(\"Enter the second number: \"))\n",
        "\n",
        "# Calculate the sum\n",
        "result = num1 + num2\n",
        "\n",
        "# Display the result\n",
        "print(f\"The sum of {num1} and {num2} is {result}.\")\n"
      ],
      "metadata": {
        "colab": {
          "base_uri": "https://localhost:8080/"
        },
        "id": "4qhDmC4xjEVx",
        "outputId": "3000984b-19a2-4c93-ba2f-395c26dff062"
      },
      "execution_count": 2,
      "outputs": [
        {
          "output_type": "stream",
          "name": "stdout",
          "text": [
            "Enter the first number: 3\n",
            "Enter the second number: 6\n",
            "The sum of 3 and 6 is 9.\n"
          ]
        }
      ]
    },
    {
      "cell_type": "code",
      "source": [
        "#3.\tRead From File (Single Input)\n",
        "\n",
        "with open(\"single_input.txt\", \"r\") as file:\n",
        "    line = file.readline()\n",
        "    num1, num2 = map(int, line.split())\n",
        "\n",
        "# Calculate the sum\n",
        "result = num1 + num2\n",
        "\n",
        "# Display the result\n",
        "print(f\"The sum of {num1} and {num2} is {result}.\")\n"
      ],
      "metadata": {
        "colab": {
          "base_uri": "https://localhost:8080/"
        },
        "id": "hbttA3k0jfC-",
        "outputId": "3cd5180e-5f1b-45d1-c340-a926e4cc7901"
      },
      "execution_count": 4,
      "outputs": [
        {
          "output_type": "stream",
          "name": "stdout",
          "text": [
            "The sum of 2 and 8 is 10.\n"
          ]
        }
      ]
    },
    {
      "cell_type": "code",
      "source": [
        "#4.\tRead From File (Multiple Inputs)\n",
        "\n",
        "with open(\"multiple_inputs.txt\", \"r\") as file:\n",
        "    for line in file:\n",
        "        num1, num2 = map(int, line.split())\n",
        "        result = num1 + num2\n",
        "        print(f\"The sum of {num1} and {num2} is {result}.\")\n"
      ],
      "metadata": {
        "colab": {
          "base_uri": "https://localhost:8080/"
        },
        "id": "8qMQCq_ljyJk",
        "outputId": "afca3b8a-4ec6-4566-c26f-88a870351927"
      },
      "execution_count": 6,
      "outputs": [
        {
          "output_type": "stream",
          "name": "stdout",
          "text": [
            "The sum of 5 and 10 is 15.\n",
            "The sum of 15 and 20 is 35.\n",
            "The sum of 25 and 30 is 55.\n"
          ]
        }
      ]
    },
    {
      "cell_type": "code",
      "source": [],
      "metadata": {
        "id": "IlzLnxSij8f5"
      },
      "execution_count": null,
      "outputs": []
    }
  ]
}