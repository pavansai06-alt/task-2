{
  "nbformat": 4,
  "nbformat_minor": 0,
  "metadata": {
    "colab": {
      "provenance": [],
      "toc_visible": true,
      "authorship_tag": "ABX9TyMw0D6D0jwX3hdIXkk48TDC",
      "include_colab_link": true
    },
    "kernelspec": {
      "name": "python3",
      "display_name": "Python 3"
    },
    "language_info": {
      "name": "python"
    }
  },
  "cells": [
    {
      "cell_type": "markdown",
      "metadata": {
        "id": "view-in-github",
        "colab_type": "text"
      },
      "source": [
        "<a href=\"https://colab.research.google.com/github/pavansai06-alt/task-2/blob/main/Untitled10.ipynb\" target=\"_parent\"><img src=\"https://colab.research.google.com/assets/colab-badge.svg\" alt=\"Open In Colab\"/></a>"
      ]
    },
    {
      "cell_type": "code",
      "execution_count": 1,
      "metadata": {
        "colab": {
          "base_uri": "https://localhost:8080/"
        },
        "id": "2SODo6lKpGqr",
        "outputId": "bc7f9366-0cd6-46e6-c6d1-e2f97b83da97"
      },
      "outputs": [
        {
          "output_type": "stream",
          "name": "stdout",
          "text": [
            "The area of a rectangle with length 15 and width 8 is 120.\n"
          ]
        }
      ],
      "source": [
        "#1.\tHardcoding Variables\n",
        "\n",
        "length = 15\n",
        "width = 8\n",
        "\n",
        "# Calculate the area\n",
        "area = length * width\n",
        "\n",
        "# Display the result\n",
        "print(f\"The area of a rectangle with length {length} and width {width} is {area}.\")\n"
      ]
    },
    {
      "cell_type": "code",
      "source": [
        "#2.\tKeyboard Input\n",
        "# Taking input from the user\n",
        "length = float(input(\"Enter the length of the rectangle: \"))\n",
        "width = float(input(\"Enter the width of the rectangle: \"))\n",
        "\n",
        "# Calculate the area\n",
        "area = length * width\n",
        "\n",
        "# Display the result\n",
        "print(f\"The area of a rectangle with length {length} and width {width} is {area}.\")\n"
      ],
      "metadata": {
        "colab": {
          "base_uri": "https://localhost:8080/"
        },
        "id": "h1yPNPBRpgsw",
        "outputId": "84f93bbe-79f3-40ee-ee27-7d4f9b6ea324"
      },
      "execution_count": 2,
      "outputs": [
        {
          "output_type": "stream",
          "name": "stdout",
          "text": [
            "Enter the length of the rectangle: 12\n",
            "Enter the width of the rectangle: 4\n",
            "The area of a rectangle with length 12.0 and width 4.0 is 48.0.\n"
          ]
        }
      ]
    },
    {
      "cell_type": "code",
      "source": [
        "#3.\tRead From File (Single Input)\n",
        "# Reading a single set of inputs from a file\n",
        "with open(\"single_rectangle_input.txt\", \"r\") as file:\n",
        "    line = file.readline()\n",
        "    length, width = map(float, line.split())\n",
        "\n",
        "# Calculate the area\n",
        "area = length * width\n",
        "\n",
        "# Display the result\n",
        "print(f\"The area of a rectangle with length {length} and width {width} is {area}.\")\n"
      ],
      "metadata": {
        "colab": {
          "base_uri": "https://localhost:8080/"
        },
        "id": "QEte-4Oypkfq",
        "outputId": "3b0e9046-088a-421a-e72e-0dc229cc36c4"
      },
      "execution_count": 3,
      "outputs": [
        {
          "output_type": "stream",
          "name": "stdout",
          "text": [
            "The area of a rectangle with length 18.0 and width 12.0 is 216.0.\n"
          ]
        }
      ]
    },
    {
      "cell_type": "code",
      "source": [
        "#4.\tRead From File (Multiple Inputs)\n",
        "# Reading multiple sets of inputs from a file\n",
        "with open(\"multiple_rectangle_inputs.txt\", \"r\") as file:\n",
        "    for line in file:\n",
        "        length, width = map(float, line.split())\n",
        "        area = length * width\n",
        "        print(f\"The area of a rectangle with length {length} and width {width} is {area}.\")\n"
      ],
      "metadata": {
        "colab": {
          "base_uri": "https://localhost:8080/"
        },
        "id": "5YnegWS0prqL",
        "outputId": "69204bfd-141d-44d9-eff4-11ac2afd64bf"
      },
      "execution_count": 6,
      "outputs": [
        {
          "output_type": "stream",
          "name": "stdout",
          "text": [
            "The area of a rectangle with length 10.0 and width 7.0 is 70.0.\n",
            "The area of a rectangle with length 25.0 and width 15.0 is 375.0.\n",
            "The area of a rectangle with length 35.0 and width 20.0 is 700.0.\n"
          ]
        }
      ]
    }
  ]
}